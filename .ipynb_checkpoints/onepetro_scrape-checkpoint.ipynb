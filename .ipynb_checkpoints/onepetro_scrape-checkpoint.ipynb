{
 "cells": [
  {
   "cell_type": "markdown",
   "metadata": {},
   "source": [
    "# onepetro_scraper\n",
    "---\n",
    "Insert description here."
   ]
  },
  {
   "cell_type": "code",
   "execution_count": 1,
   "metadata": {
    "collapsed": true
   },
   "outputs": [],
   "source": [
    "# import library\n",
    "import onepetro_scrape as ops"
   ]
  },
  {
   "cell_type": "code",
   "execution_count": 2,
   "metadata": {},
   "outputs": [
    {
     "data": {
      "text/plain": [
       "<onepetro_scrape.Scraper at 0x23ddca3bf60>"
      ]
     },
     "execution_count": 2,
     "metadata": {},
     "output_type": "execute_result"
    }
   ],
   "source": [
    "# create scrape object\n",
    "scraper = ops.Scraper()\n",
    "scraper"
   ]
  },
  {
   "cell_type": "code",
   "execution_count": 3,
   "metadata": {},
   "outputs": [
    {
     "name": "stdout",
     "output_type": "stream",
     "text": [
      "Search results: Your search for marginal+brown+field has returned 1181 results.\n"
     ]
    }
   ],
   "source": [
    "# start searching\n",
    "scraper.query(search='marginal brown field')"
   ]
  },
  {
   "cell_type": "code",
   "execution_count": 4,
   "metadata": {},
   "outputs": [
    {
     "name": "stdout",
     "output_type": "stream",
     "text": [
      "Extracting 1 of 10\n",
      "Extracting 2 of 10\n",
      "Extracting 3 of 10\n",
      "Extracting 4 of 10\n",
      "Extracting 5 of 10\n",
      "Extracting 6 of 10\n",
      "Extracting 7 of 10\n",
      "Extracting 8 of 10\n",
      "Extracting 9 of 10\n",
      "Extracting 10 of 10\n",
      "Extraction complete\n"
     ]
    }
   ],
   "source": [
    "# extract top 10 papers\n",
    "scraper.extract(rows=10)"
   ]
  },
  {
   "cell_type": "code",
   "execution_count": 5,
   "metadata": {
    "scrolled": false
   },
   "outputs": [
    {
     "data": {
      "text/plain": [
       "[Title                                 Reactivation of Marginal Fields\n",
       " Authors             [R.A. Orunesu (Pluspetrol S.A.) ,  J.M. Hernan...\n",
       " DOI                                [https://doi.org/10.2118/27035-MS]\n",
       " Document ID                                            [SPE-27035-MS]\n",
       " Publisher                            [Society of Petroleum Engineers]\n",
       " Source              [SPE Latin America/Caribbean Petroleum Enginee...\n",
       " Publication Date                                               [1994]\n",
       " dtype: object,\n",
       " Title                  Water Injection in Brown Field: Never Too Late\n",
       " Authors             [Bikram M. Baruah (PETRONAS) ,  Keng Seng Chan...\n",
       " DOI                                [https://doi.org/10.4043/24906-MS]\n",
       " Document ID                                            [OTC-24906-MS]\n",
       " Publisher                            [Offshore Technology Conference]\n",
       " Source              [Offshore Technology Conference-Asia, 25-28 Ma...\n",
       " Publication Date                                               [2014]\n",
       " dtype: object,\n",
       " Title               Cement Isolation Packer - An Economic Method o...\n",
       " Authors             [N. S. Koshy (Cairn India Limited) ,  S. Anand...\n",
       " DOI                                [https://doi.org/10.4043/26691-MS]\n",
       " Document ID                                            [OTC-26691-MS]\n",
       " Publisher                            [Offshore Technology Conference]\n",
       " Source              [Offshore Technology Conference Asia, 22-25 Ma...\n",
       " Publication Date                                               [2016]\n",
       " dtype: object,\n",
       " Title               Cement Packer: A Key to Accessing Marginal Res...\n",
       " Authors             [F. Olatunde (Chevron Nigeria Limited) ,  P.S....\n",
       " DOI                               [https://doi.org/10.2118/136993-MS]\n",
       " Document ID                                           [SPE-136993-MS]\n",
       " Publisher                            [Society of Petroleum Engineers]\n",
       " Source              [Nigeria Annual International Conference and E...\n",
       " Publication Date                                               [2010]\n",
       " dtype: object,\n",
       " Title               Use of a Good-Enough Strategy to Reduce Costs ...\n",
       " Authors                                 [Shashank Shukla (TOTAL TGI)]\n",
       " DOI                                [https://doi.org/10.4043/27253-MS]\n",
       " Document ID                                            [OTC-27253-MS]\n",
       " Publisher                            [Offshore Technology Conference]\n",
       " Source              [Offshore Technology Conference, 2-5 May, Hous...\n",
       " Publication Date                                               [2016]\n",
       " dtype: object,\n",
       " Title               Video:\\n                        Use of a Good-...\n",
       " Authors                                 [Shashank Shukla (TOTAL TGI)]\n",
       " Document ID                                            [OTC-27253-PT]\n",
       " Publisher                            [Offshore Technology Conference]\n",
       " Publication Date                                               [2016]\n",
       " dtype: object,\n",
       " Title               Integrated Water Injection Analysis for a Gian...\n",
       " Authors             [A. Ortega (Eni) ,  S. Renna (Eni) ,  G. Fanel...\n",
       " DOI                               [https://doi.org/10.2118/185872-MS]\n",
       " Document ID                                           [SPE-185872-MS]\n",
       " Publisher                            [Society of Petroleum Engineers]\n",
       " Source              [SPE Europec featured at 79th EAGE Conference ...\n",
       " Publication Date                                               [2017]\n",
       " dtype: object,\n",
       " Title               Development Strategy For A Niger Delta Brown F...\n",
       " Authors             [Ikomi G. John (Shell Petroleum Development Co...\n",
       " DOI                                [https://doi.org/10.4043/14203-MS]\n",
       " Document ID                                            [OTC-14203-MS]\n",
       " Publisher                            [Offshore Technology Conference]\n",
       " Source              [Offshore Technology Conference, 6-9 May, Hous...\n",
       " Publication Date                                               [2002]\n",
       " dtype: object,\n",
       " Title               Reservoir Management of the Campos Basin Brown...\n",
       " Authors             [Guilherme E. S. Dumas (Petrobras E&P) ,  Edni...\n",
       " DOI                                [https://doi.org/10.4043/28657-MS]\n",
       " Document ID                                            [OTC-28657-MS]\n",
       " Publisher                            [Offshore Technology Conference]\n",
       " Source              [Offshore Technology Conference, 30 April - 3 ...\n",
       " Publication Date                                               [2018]\n",
       " dtype: object,\n",
       " Title               Horizontal Wells in Yemen Make a Marginal Fiel...\n",
       " Authors             [Philip A. Bakes (Canadian Petroleum Internati...\n",
       " DOI                                [https://doi.org/10.2118/37058-MS]\n",
       " Document ID                                            [SPE-37058-MS]\n",
       " Publisher                            [Society of Petroleum Engineers]\n",
       " Source              [International Conference on Horizontal Well T...\n",
       " Publication Date                                               [1996]\n",
       " dtype: object]"
      ]
     },
     "execution_count": 5,
     "metadata": {},
     "output_type": "execute_result"
    }
   ],
   "source": [
    "# the extracted papers are stored in a list\n",
    "scraper.papers"
   ]
  },
  {
   "cell_type": "markdown",
   "metadata": {},
   "source": [
    "## Optimization\n",
    "---\n",
    "Code runs slow at extract. Use line_profiler library to profile line-by-line performance."
   ]
  },
  {
   "cell_type": "code",
   "execution_count": 12,
   "metadata": {},
   "outputs": [],
   "source": [
    "%load_ext line_profiler"
   ]
  },
  {
   "cell_type": "code",
   "execution_count": 13,
   "metadata": {},
   "outputs": [
    {
     "name": "stdout",
     "output_type": "stream",
     "text": [
      "Extracting 1 of 10\n",
      "Extracting 2 of 10\n",
      "Extracting 3 of 10\n",
      "Extracting 4 of 10\n",
      "Extracting 5 of 10\n",
      "Extracting 6 of 10\n",
      "Extracting 7 of 10\n",
      "Extracting 8 of 10\n",
      "Extracting 9 of 10\n",
      "Extracting 10 of 10\n",
      "Extraction complete\n"
     ]
    }
   ],
   "source": [
    "%lprun -f ops.Scraper.extract scraper.extract(rows=10)\n",
    "\n",
    "# this will open up the results in prompt window\n",
    "# please view using the window"
   ]
  },
  {
   "cell_type": "markdown",
   "metadata": {},
   "source": [
    "Major problem when requesting website for each paper. Potential solution: parallelism (plus can be a personal training)."
   ]
  },
  {
   "cell_type": "code",
   "execution_count": null,
   "metadata": {
    "collapsed": true
   },
   "outputs": [],
   "source": []
  }
 ],
 "metadata": {
  "kernelspec": {
   "display_name": "Python 3",
   "language": "python",
   "name": "python3"
  },
  "language_info": {
   "codemirror_mode": {
    "name": "ipython",
    "version": 3
   },
   "file_extension": ".py",
   "mimetype": "text/x-python",
   "name": "python",
   "nbconvert_exporter": "python",
   "pygments_lexer": "ipython3",
   "version": "3.6.4"
  }
 },
 "nbformat": 4,
 "nbformat_minor": 2
}
