{
 "cells": [
  {
   "cell_type": "markdown",
   "metadata": {
    "collapsed": true
   },
   "source": [
    "# Exploring `selenium`"
   ]
  },
  {
   "cell_type": "markdown",
   "metadata": {},
   "source": [
    "This notebook is to explore what is `selenium` about and document the author's learnings from his endeavor."
   ]
  },
  {
   "cell_type": "code",
   "execution_count": 1,
   "metadata": {},
   "outputs": [
    {
     "name": "stdout",
     "output_type": "stream",
     "text": [
      "Requirement already satisfied: selenium in c:\\users\\izzat\\anaconda3\\lib\\site-packages\n",
      "Requirement already satisfied: urllib3 in c:\\users\\izzat\\anaconda3\\lib\\site-packages (from selenium)\n"
     ]
    },
    {
     "name": "stderr",
     "output_type": "stream",
     "text": [
      "You are using pip version 9.0.1, however version 19.1.1 is available.\n",
      "You should consider upgrading via the 'python -m pip install --upgrade pip' command.\n"
     ]
    }
   ],
   "source": [
    "!pip install selenium"
   ]
  },
  {
   "cell_type": "code",
   "execution_count": 2,
   "metadata": {
    "collapsed": true
   },
   "outputs": [],
   "source": [
    "import selenium"
   ]
  },
  {
   "cell_type": "code",
   "execution_count": 3,
   "metadata": {},
   "outputs": [
    {
     "data": {
      "text/plain": [
       "'3.14.0'"
      ]
     },
     "execution_count": 3,
     "metadata": {},
     "output_type": "execute_result"
    }
   ],
   "source": [
    "selenium.__version__"
   ]
  },
  {
   "cell_type": "markdown",
   "metadata": {},
   "source": [
    "---\n",
    "\n",
    "## Conclusion\n",
    "\n",
    "It turns out that it is not just installing lib dependencies, you also need to ensure specific browser is install, with its driver to be donwloaded to the user's laptop! Too much major requirements!\n",
    "\n",
    "All in all, just about the author wanted to give up, he came across this article. It turns out that usually dynamic content javascript-enabled usually request using some api. Turns out, you can get quick abstract using onepetro's built-in request! You can see it in play if you click the `Abstract` in the result page, while viewing the `XHR` item in inspect's `Network`. Well there you go! You original problem is solved - how to get the abstract.\n",
    "\n",
    "Regardless, `selenium` is understood at a high level usage. Basically it is a *programatic* web driver that you can simulate the any action of using a normal browser by only using codes. For now, let's leave this high-level understanding be.\n",
    "\n",
    "Ok, now let's continue on the development of the onepetro_scrape module!"
   ]
  }
 ],
 "metadata": {
  "kernelspec": {
   "display_name": "Python 3",
   "language": "python",
   "name": "python3"
  },
  "language_info": {
   "codemirror_mode": {
    "name": "ipython",
    "version": 3
   },
   "file_extension": ".py",
   "mimetype": "text/x-python",
   "name": "python",
   "nbconvert_exporter": "python",
   "pygments_lexer": "ipython3",
   "version": "3.6.2"
  }
 },
 "nbformat": 4,
 "nbformat_minor": 2
}
