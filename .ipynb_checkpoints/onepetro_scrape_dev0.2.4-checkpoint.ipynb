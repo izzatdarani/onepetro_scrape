{
 "cells": [
  {
   "cell_type": "markdown",
   "metadata": {},
   "source": [
    "# onepetro_scrape_dev0.2.4"
   ]
  },
  {
   "cell_type": "code",
   "execution_count": 38,
   "metadata": {},
   "outputs": [],
   "source": [
    "# import lib\n",
    "\n",
    "import requests\n",
    "from bs4 import BeautifulSoup\n",
    "import random\n",
    "from fake_useragent import UserAgent\n",
    "import re\n",
    "\n",
    "import pandas\n",
    "import numpy"
   ]
  },
  {
   "cell_type": "code",
   "execution_count": 18,
   "metadata": {},
   "outputs": [],
   "source": [
    "# get all available ip proxies\n",
    "# store in a list\n",
    "\n",
    "def get_proxies():\n",
    "    \"\"\"\n",
    "    Function to get list of proxies.\n",
    "    Can be replaced by any callables as long as it returns [{ip, port.}]\n",
    "    \"\"\"\n",
    "    \n",
    "    # send request to website\n",
    "    url = 'https://www.sslproxies.org/'\n",
    "    headers = {\n",
    "        'User-Agent' : UserAgent(cache=False).random\n",
    "    }\n",
    "    r = requests.get(url=url, headers=headers)\n",
    "    \n",
    "    # soup proxy table in response's text\n",
    "    soup = BeautifulSoup(r.text, 'html.parser')\n",
    "    t = soup.find(id='proxylisttable')\n",
    "\n",
    "    # extract ip and port\n",
    "    proxies = []\n",
    "    for row in t.tbody.find_all('tr'):\n",
    "        d = {\n",
    "            'ip' : row.find_all('td')[0].string,\n",
    "            'port' : row.find_all('td')[1].string\n",
    "        }\n",
    "        proxies.append(d)\n",
    "        \n",
    "    return proxies"
   ]
  },
  {
   "cell_type": "code",
   "execution_count": 19,
   "metadata": {
    "collapsed": true
   },
   "outputs": [],
   "source": [
    "proxies = get_proxies()"
   ]
  },
  {
   "cell_type": "code",
   "execution_count": 20,
   "metadata": {},
   "outputs": [
    {
     "data": {
      "text/plain": [
       "100"
      ]
     },
     "execution_count": 20,
     "metadata": {},
     "output_type": "execute_result"
    }
   ],
   "source": [
    "len(proxies)"
   ]
  },
  {
   "cell_type": "code",
   "execution_count": 21,
   "metadata": {},
   "outputs": [
    {
     "data": {
      "text/html": [
       "<div>\n",
       "<style>\n",
       "    .dataframe thead tr:only-child th {\n",
       "        text-align: right;\n",
       "    }\n",
       "\n",
       "    .dataframe thead th {\n",
       "        text-align: left;\n",
       "    }\n",
       "\n",
       "    .dataframe tbody tr th {\n",
       "        vertical-align: top;\n",
       "    }\n",
       "</style>\n",
       "<table border=\"1\" class=\"dataframe\">\n",
       "  <thead>\n",
       "    <tr style=\"text-align: right;\">\n",
       "      <th></th>\n",
       "      <th>ip</th>\n",
       "      <th>port</th>\n",
       "    </tr>\n",
       "  </thead>\n",
       "  <tbody>\n",
       "    <tr>\n",
       "      <th>0</th>\n",
       "      <td>183.89.14.22</td>\n",
       "      <td>8080</td>\n",
       "    </tr>\n",
       "    <tr>\n",
       "      <th>1</th>\n",
       "      <td>157.230.46.178</td>\n",
       "      <td>1080</td>\n",
       "    </tr>\n",
       "    <tr>\n",
       "      <th>2</th>\n",
       "      <td>41.67.12.17</td>\n",
       "      <td>8080</td>\n",
       "    </tr>\n",
       "    <tr>\n",
       "      <th>3</th>\n",
       "      <td>110.136.205.218</td>\n",
       "      <td>80</td>\n",
       "    </tr>\n",
       "    <tr>\n",
       "      <th>4</th>\n",
       "      <td>103.24.107.2</td>\n",
       "      <td>8181</td>\n",
       "    </tr>\n",
       "  </tbody>\n",
       "</table>\n",
       "</div>"
      ],
      "text/plain": [
       "                ip  port\n",
       "0     183.89.14.22  8080\n",
       "1   157.230.46.178  1080\n",
       "2      41.67.12.17  8080\n",
       "3  110.136.205.218    80\n",
       "4     103.24.107.2  8181"
      ]
     },
     "execution_count": 21,
     "metadata": {},
     "output_type": "execute_result"
    }
   ],
   "source": [
    "pandas.DataFrame(proxies).head()"
   ]
  },
  {
   "cell_type": "code",
   "execution_count": 52,
   "metadata": {},
   "outputs": [],
   "source": [
    "# search query\n",
    "\n",
    "\"\"\"\n",
    "FOR ADVANCED SEARCH:\n",
    "\n",
    "https://onepetro.org/search?\n",
    "\n",
    "q=well+test\n",
    "+AND+%22machine+learning%22\n",
    "+AND+-%22simulation%22\n",
    "+AND+author%3A%22john%22\n",
    "+AND+affiliation%3A%22spe%22\n",
    "+AND+publisher%3A%22American+Society+of+Safety+Engineers%22\n",
    "+AND+journal%3A%22Petroleum+Technology%22\n",
    "+AND+conference%3A%2211th+ISRM+Congress%22\n",
    "\n",
    "&peer_reviewed=\n",
    "\n",
    "&published_between=on\n",
    "\n",
    "&from_year=1993\n",
    "\n",
    "&to_year=\n",
    "\n",
    "&rows=25\n",
    "\"\"\"\n",
    "\n",
    "def get_N_papers(q):\n",
    "    \"\"\"\n",
    "    Function to get number of papers from search queries.\n",
    "    Currently only support for simple query (q keyword).\n",
    "    Advanced queries will be appended in the future dev.\n",
    "    \"\"\"\n",
    "\n",
    "    # send request to onepetro\n",
    "    url = 'https://onepetro.org/search'\n",
    "#     headers = {\n",
    "#         'User-Agent' : UserAgent(cache=False).random\n",
    "#     }\n",
    "    # send request to onepetro\n",
    "    payload = {\n",
    "        'q'                 : '+'.join(q.split()),\n",
    "        'peer_reviewed'     : 'off',\n",
    "        'published_between' : 'off',\n",
    "        'from_year'         : '',\n",
    "        'to_year'           : '',\n",
    "        'rows'              : 1\n",
    "    }\n",
    "#     r = requests.get(url=url, params=payload, headers=headers)\n",
    "    r = requests.get(url=url, params=payload)\n",
    "    \n",
    "    # extract number of search results\n",
    "    soup = BeautifulSoup(r.text, 'html.parser')\n",
    "    verbose = soup.find('h2').get_text()\n",
    "    n_str = ''.join(re.findall('\\d*[,]\\d*', verbose)[0].split(','))\n",
    "    N = int(n_str)\n",
    "    \n",
    "    return N"
   ]
  },
  {
   "cell_type": "code",
   "execution_count": 50,
   "metadata": {},
   "outputs": [
    {
     "data": {
      "text/plain": [
       "114639"
      ]
     },
     "execution_count": 50,
     "metadata": {},
     "output_type": "execute_result"
    }
   ],
   "source": [
    "get_N_papers('well test')"
   ]
  },
  {
   "cell_type": "code",
   "execution_count": 53,
   "metadata": {},
   "outputs": [
    {
     "name": "stdout",
     "output_type": "stream",
     "text": [
      "1.41 s ± 45.6 ms per loop (mean ± std. dev. of 7 runs, 1 loop each)\n"
     ]
    }
   ],
   "source": [
    "%timeit get_N_papers('gas lift')"
   ]
  },
  {
   "cell_type": "code",
   "execution_count": null,
   "metadata": {
    "collapsed": true
   },
   "outputs": [],
   "source": []
  },
  {
   "cell_type": "code",
   "execution_count": 4,
   "metadata": {
    "collapsed": true
   },
   "outputs": [],
   "source": [
    "# get response from query\n",
    "# get to know how many results\n"
   ]
  },
  {
   "cell_type": "code",
   "execution_count": null,
   "metadata": {
    "collapsed": true
   },
   "outputs": [],
   "source": [
    "# build a function that calls a paper from results\n",
    "# get all the details of the paper\n"
   ]
  }
 ],
 "metadata": {
  "kernelspec": {
   "display_name": "Python 3",
   "language": "python",
   "name": "python3"
  },
  "language_info": {
   "codemirror_mode": {
    "name": "ipython",
    "version": 3
   },
   "file_extension": ".py",
   "mimetype": "text/x-python",
   "name": "python",
   "nbconvert_exporter": "python",
   "pygments_lexer": "ipython3",
   "version": "3.6.8"
  }
 },
 "nbformat": 4,
 "nbformat_minor": 2
}
