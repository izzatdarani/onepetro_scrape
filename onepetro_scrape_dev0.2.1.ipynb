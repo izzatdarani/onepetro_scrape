{
 "cells": [
  {
   "cell_type": "markdown",
   "metadata": {},
   "source": [
    "# onepetro_scrape_dev0.2.1"
   ]
  },
  {
   "cell_type": "markdown",
   "metadata": {},
   "source": [
    "This notebook is to continue dev on onepetro_scrape module. Addendum/mod features include:\n",
    "\n",
    " 1. Change results to json/dic like\n",
    " 2. Results include quick abstract and metrics"
   ]
  },
  {
   "cell_type": "code",
   "execution_count": 1,
   "metadata": {
    "collapsed": true
   },
   "outputs": [],
   "source": [
    "# import lib\n",
    "\n",
    "import requests\n",
    "from bs4 import BeautifulSoup"
   ]
  },
  {
   "cell_type": "code",
   "execution_count": 2,
   "metadata": {
    "collapsed": true
   },
   "outputs": [],
   "source": [
    "# request a search result from onepetro\n",
    "\n",
    "page = requests.get('https://onepetro.org/search?q=well+test&peer_reviewed=&published_between=&from_year=&to_year=&rows=25')"
   ]
  },
  {
   "cell_type": "code",
   "execution_count": 5,
   "metadata": {},
   "outputs": [],
   "source": [
    "# soup page\n",
    "\n",
    "soup = BeautifulSoup(page.text, 'html.parser')"
   ]
  },
  {
   "cell_type": "code",
   "execution_count": 35,
   "metadata": {
    "scrolled": true
   },
   "outputs": [],
   "source": [
    "result1 = soup.find_all('div', {'class':'result-item'})[0]"
   ]
  },
  {
   "cell_type": "code",
   "execution_count": 40,
   "metadata": {
    "scrolled": true
   },
   "outputs": [
    {
     "name": "stdout",
     "output_type": "stream",
     "text": [
      "<div class=\"result-item\" conference-paper=\"\" data-itemid=\"conference-paper/SPE-27975-MS   data-cite-id=\" data-type=\"conference-paper\" spe-27975-ms\"\"=\"\">\n",
      " <img alt=\"SPE\" class=\"result-item-logo\" src=\"https://onepetro.org:443/media/logos/society/spe.jpg?height=30&amp;token=oplC9oG7lDPWQEf%2BPn31oaYnMpY%3D&amp;width=70\"/>\n",
      " <a class=\"icon-check-empty toggle-selection\" data-cite-id=\"conference-paper/SPE-27975-MS\" data-itemid=\"conference-paper/SPE-27975-MS\">\n",
      " </a>\n",
      " <div class=\"top\">\n",
      "  <h3 class=\"book-title\">\n",
      "   <a class=\"result-link\" href=\"https://onepetro.org:443/conference-paper/SPE-27975-MS?sort=&amp;start=0&amp;q=well+test&amp;from_year=&amp;peer_reviewed=&amp;published_between=&amp;fromSearchResults=true&amp;to_year=&amp;rows=25#\">\n",
      "    Practical Well Test Interpretation\n",
      "   </a>\n",
      "  </h3>\n",
      "  <div class=\"result-item-stars\" data-p13n-applicability-count=\"1\" data-p13n-applicability-rating=\"5\" data-p13n-combined-count=\"3\" data-p13n-combined-rating=\"5\" data-p13n-rating=\"conference-paper/SPE-27975-MS\" data-p13n-rating-type=\"techical\" data-p13n-readability-count=\"1\" data-p13n-readability-rating=\"5\" data-p13n-technical-count=\"1\" data-p13n-technical-rating=\"5\">\n",
      "  </div>\n",
      " </div>\n",
      " <div class=\"highlighted\">\n",
      "  <div class=\"result-item-authors\">\n",
      "   <div class=\"result-item-author\">\n",
      "    Mattar, Louis, Fekete Assocs. Inc.\n",
      "   </div>\n",
      "  </div>\n",
      "  <div class=\"result-item-source\">\n",
      "   27975-MS \n",
      "          SPE \n",
      "          Conference Paper\n",
      "           - 1994\n",
      "  </div>\n",
      "  <a class=\"view-rights-link\" href=\"http://www.copyright.com/openurl.do?isbn=978-1-55563-465-0\" target=\"_blank\">\n",
      "   View rights &amp; permissions\n",
      "  </a>\n",
      "  <div class=\"result-item-actions\">\n",
      "   <form action=\"https://onepetro.org:443/cart/addOP\" class=\"add-to-cart-form\" id=\"add-conference-paper/SPE-27975-MS\" method=\"post\">\n",
      "    <input name=\"dest\" type=\"hidden\" value=\"https://onepetro.org/search?q=well+test&amp;from_year=&amp;peer_reviewed=&amp;published_between=&amp;rows=25&amp;to_year=\"/>\n",
      "    <input name=\"id\" type=\"hidden\" value=\"conference-paper/SPE-27975-MS\"/>\n",
      "    <button class=\"result-item-action-btn btn-cart add-single\">\n",
      "     <i aria-hidden=\"true\" class=\"icon-shopping-cart\">\n",
      "     </i>\n",
      "     Add to cart\n",
      "    </button>\n",
      "   </form>\n",
      "   <form action=\"https://onepetro.org:443/citations/cite\" class=\"get-citation\" id=\"cite-conference-paper/SPE-27975-MS\" method=\"post\">\n",
      "    <input name=\"id\" type=\"hidden\" value=\"conference-paper/SPE-27975-MS\"/>\n",
      "    <button class=\"result-item-action-btn \">\n",
      "     Export citation\n",
      "    </button>\n",
      "   </form>\n",
      "   <div class=\"save-item-btn\" data-p13n=\"conference paper\" data-p13n-title=\"Practical Well Test Interpretation\" data-p13n-uri=\"https://onepetro.org:443/conference-paper/SPE-27975-MS?sort=&amp;start=0&amp;q=well+test&amp;from_year=&amp;peer_reviewed=&amp;published_between=&amp;fromSearchResults=true&amp;to_year=&amp;rows=25#\">\n",
      "   </div>\n",
      "  </div>\n",
      "  <div class=\"result-item-links\">\n",
      "   <ul>\n",
      "    <li>\n",
      "     <a class=\"quick-abstract\" data-div=\"#qa-0\" data-url=\"quick-abstract/conference-paper/SPE-27975-MS\" href=\"https://onepetro.org:443/conference-paper/SPE-27975-MS?sort=&amp;start=0&amp;q=well+test&amp;from_year=&amp;peer_reviewed=&amp;published_between=&amp;fromSearchResults=true&amp;to_year=&amp;rows=25#\">\n",
      "      Quick Abstract\n",
      "     </a>\n",
      "    </li>\n",
      "    <li>\n",
      "     <a class=\"quick-link\" data-div=\"#metrics-0\" href=\"\">\n",
      "      Metrics\n",
      "     </a>\n",
      "    </li>\n",
      "   </ul>\n",
      "   <div class=\"tab-content\" id=\"qa-0\">\n",
      "   </div>\n",
      "   <div class=\"tab-content\" id=\"metrics-0\">\n",
      "    <div class=\"result-item-meta\">\n",
      "     <p>\n",
      "      <b>\n",
      "       23\n",
      "      </b>\n",
      "      downloads\n",
      "      <span class=\"download-desc\">\n",
      "       in the last 30 days\n",
      "      </span>\n",
      "      <br/>\n",
      "      <b>\n",
      "       1,580\n",
      "      </b>\n",
      "      downloads\n",
      "      <span class=\"download-desc\">\n",
      "       since 2007\n",
      "      </span>\n",
      "     </p>\n",
      "    </div>\n",
      "   </div>\n",
      "  </div>\n",
      " </div>\n",
      "</div>\n",
      "\n"
     ]
    }
   ],
   "source": [
    "print(result1.prettify())"
   ]
  },
  {
   "cell_type": "markdown",
   "metadata": {},
   "source": [
    "## Get meta"
   ]
  },
  {
   "cell_type": "code",
   "execution_count": 42,
   "metadata": {},
   "outputs": [
    {
     "data": {
      "text/plain": [
       "{'class': ['result-item'],\n",
       " 'conference-paper': '',\n",
       " 'data-itemid': 'conference-paper/SPE-27975-MS   data-cite-id=',\n",
       " 'data-type': 'conference-paper',\n",
       " 'spe-27975-ms\"\"': ''}"
      ]
     },
     "execution_count": 42,
     "metadata": {},
     "output_type": "execute_result"
    }
   ],
   "source": [
    "result1.attrs"
   ]
  },
  {
   "cell_type": "markdown",
   "metadata": {},
   "source": [
    "## Get title"
   ]
  },
  {
   "cell_type": "code",
   "execution_count": 75,
   "metadata": {},
   "outputs": [
    {
     "data": {
      "text/plain": [
       "'Practical Well Test Interpretation'"
      ]
     },
     "execution_count": 75,
     "metadata": {},
     "output_type": "execute_result"
    }
   ],
   "source": [
    "result1.find('h3', {'class':'book-title'}).get_text().strip()"
   ]
  },
  {
   "cell_type": "markdown",
   "metadata": {},
   "source": [
    "## Get authors"
   ]
  },
  {
   "cell_type": "code",
   "execution_count": 76,
   "metadata": {},
   "outputs": [
    {
     "data": {
      "text/plain": [
       "[<div class=\"result-item-authors\">\n",
       " <div class=\"result-item-author\">\n",
       "                       Mattar, Louis, Fekete Assocs. Inc.\n",
       "                   </div>\n",
       " </div>]"
      ]
     },
     "execution_count": 76,
     "metadata": {},
     "output_type": "execute_result"
    }
   ],
   "source": [
    "result1.find_all('div', {'class':'result-item-authors'})"
   ]
  },
  {
   "cell_type": "code",
   "execution_count": 77,
   "metadata": {
    "collapsed": true
   },
   "outputs": [],
   "source": [
    "result2 = soup.find_all('div', {'class':'result-item'})[1]"
   ]
  },
  {
   "cell_type": "code",
   "execution_count": 97,
   "metadata": {},
   "outputs": [
    {
     "name": "stdout",
     "output_type": "stream",
     "text": [
      "Ahmed, U., Schlumberger Well Services\n",
      "Husband, F.J., Schlumberger Well Services\n",
      "Tariq, S., Schlumberger Perforating and Testing Center\n"
     ]
    }
   ],
   "source": [
    "for author in result2.find_all('div', {'class':'result-item-author'}):\n",
    "    print(author.get_text().strip())"
   ]
  },
  {
   "cell_type": "markdown",
   "metadata": {},
   "source": [
    "## Get source"
   ]
  },
  {
   "cell_type": "code",
   "execution_count": 100,
   "metadata": {},
   "outputs": [
    {
     "data": {
      "text/plain": [
       "'27975-MS \\n          SPE \\n          Conference Paper\\n           - 1994'"
      ]
     },
     "execution_count": 100,
     "metadata": {},
     "output_type": "execute_result"
    }
   ],
   "source": [
    "result1.find('div', {'class':'result-item-source'}).get_text().strip()"
   ]
  },
  {
   "cell_type": "markdown",
   "metadata": {},
   "source": [
    "## Regex playground"
   ]
  },
  {
   "cell_type": "code",
   "execution_count": 11,
   "metadata": {},
   "outputs": [],
   "source": [
    "hehe = \"\"\"\n",
    "Chapter {60}\n",
    "Conference paper {95,745}\n",
    "General {943}\n",
    "Journal paper {18,362}\n",
    "Media {15}\n",
    "Other {21}\n",
    "Presentation {427}\n",
    "Standard {100}\n",
    "\"\"\""
   ]
  },
  {
   "cell_type": "code",
   "execution_count": 10,
   "metadata": {
    "collapsed": true
   },
   "outputs": [],
   "source": [
    "import re"
   ]
  },
  {
   "cell_type": "code",
   "execution_count": 23,
   "metadata": {},
   "outputs": [
    {
     "data": {
      "text/plain": [
       "['60', '95,745', '943', '18,362', '15', '21', '427', '100']"
      ]
     },
     "execution_count": 23,
     "metadata": {},
     "output_type": "execute_result"
    }
   ],
   "source": [
    "re.findall('\\d+[,]?\\d+', hehe)"
   ]
  },
  {
   "cell_type": "code",
   "execution_count": 28,
   "metadata": {},
   "outputs": [
    {
     "data": {
      "text/plain": [
       "115673"
      ]
     },
     "execution_count": 28,
     "metadata": {},
     "output_type": "execute_result"
    }
   ],
   "source": [
    "tot = 0\n",
    "for num in re.findall('\\d+[,]?\\d+', hehe):\n",
    "    tot += int(''.join(num.split(',')))\n",
    "    \n",
    "tot"
   ]
  },
  {
   "cell_type": "markdown",
   "metadata": {},
   "source": [
    "## Conclusion"
   ]
  },
  {
   "cell_type": "markdown",
   "metadata": {},
   "source": [
    "Interestingly, this project seems promising. Next steps are:\n",
    "\n",
    " 1. Get quick abstract\n",
    " 2. Investigate all the possible paper type and the effect on data to scrape (will presentation type has author? etc)\n",
    " 3. Wrap all into a good module/class\n",
    " 4. Thoughts 1 - if results are many, can we do batch by batch scraping? Eg 11,000 papers, we first do first 5,000. If amount is less than that, it's fine. Else, repeat scraping until the end. Can get total from the first run.\n",
    " 5. Thoughts 2 - if can run batch/loop, add parallel operations\n",
    " 6. Thoughts 3 - lastly, we can attached already existing NLP, so that we can first query a search to onepetro, get all related papers, and send to model. Then user can enter a more natural query, send to model. The model will rank the papers based on that natural query.\n",
    " \n",
    "Tadaaa. Now I am sleepy. Okay doze off goodnight!\n",
    "\n",
    "-ID 2019/06/23"
   ]
  }
 ],
 "metadata": {
  "kernelspec": {
   "display_name": "Python 3",
   "language": "python",
   "name": "python3"
  },
  "language_info": {
   "codemirror_mode": {
    "name": "ipython",
    "version": 3
   },
   "file_extension": ".py",
   "mimetype": "text/x-python",
   "name": "python",
   "nbconvert_exporter": "python",
   "pygments_lexer": "ipython3",
   "version": "3.6.2"
  }
 },
 "nbformat": 4,
 "nbformat_minor": 2
}
