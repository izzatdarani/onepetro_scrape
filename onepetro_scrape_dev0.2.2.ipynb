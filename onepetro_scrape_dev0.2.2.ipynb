{
 "cells": [
  {
   "cell_type": "markdown",
   "metadata": {},
   "source": [
    "# onepetro_scrape_dev0.2.2"
   ]
  },
  {
   "cell_type": "markdown",
   "metadata": {},
   "source": [
    "This notebook is to pick up prev version (0.2.1) dev. Objectives for tonight:\n",
    " 1. Get quick abstract\n",
    " 2. Investigate all the possible paper type and the effect on data to scrape (will presentation type has author? etc)"
   ]
  },
  {
   "cell_type": "code",
   "execution_count": 7,
   "metadata": {
    "collapsed": true
   },
   "outputs": [],
   "source": [
    "# import lib\n",
    "\n",
    "import requests\n",
    "from bs4 import BeautifulSoup\n",
    "import pandas\n",
    "import json"
   ]
  },
  {
   "cell_type": "code",
   "execution_count": 4,
   "metadata": {},
   "outputs": [
    {
     "data": {
      "text/html": [
       "<div>\n",
       "<style>\n",
       "    .dataframe thead tr:only-child th {\n",
       "        text-align: right;\n",
       "    }\n",
       "\n",
       "    .dataframe thead th {\n",
       "        text-align: left;\n",
       "    }\n",
       "\n",
       "    .dataframe tbody tr th {\n",
       "        vertical-align: top;\n",
       "    }\n",
       "</style>\n",
       "<table border=\"1\" class=\"dataframe\">\n",
       "  <thead>\n",
       "    <tr style=\"text-align: right;\">\n",
       "      <th></th>\n",
       "      <th>0</th>\n",
       "      <th>1</th>\n",
       "      <th>2</th>\n",
       "      <th>3</th>\n",
       "    </tr>\n",
       "  </thead>\n",
       "  <tbody>\n",
       "    <tr>\n",
       "      <th>0</th>\n",
       "      <td>{\"abstract\":\"&lt;html&gt;&lt;head&gt;&lt;title&gt;Prislin and Ma...</td>\n",
       "      <td>alternative methods have been introduced acro...</td>\n",
       "      <td>a novel concept for addressing the integrity ...</td>\n",
       "      <td>bu...&lt;/p&gt;&lt;/p&gt;&lt;/div&gt;&lt;/body&gt;&lt;/html&gt;\"}</td>\n",
       "    </tr>\n",
       "  </tbody>\n",
       "</table>\n",
       "</div>"
      ],
      "text/plain": [
       "                                                   0  \\\n",
       "0  {\"abstract\":\"<html><head><title>Prislin and Ma...   \n",
       "\n",
       "                                                   1  \\\n",
       "0   alternative methods have been introduced acro...   \n",
       "\n",
       "                                                   2  \\\n",
       "0   a novel concept for addressing the integrity ...   \n",
       "\n",
       "                                      3  \n",
       "0   bu...</p></p></div></body></html>\"}  "
      ]
     },
     "execution_count": 4,
     "metadata": {},
     "output_type": "execute_result"
    }
   ],
   "source": [
    "# try reading quick abstract using pandas\n",
    "\n",
    "url = 'https://onepetro.org/quick-abstract/conference-paper/OTC-27866-MS?_=1561471132552'\n",
    "\n",
    "pandas.read_csv(url, header=None)"
   ]
  },
  {
   "cell_type": "markdown",
   "metadata": {},
   "source": [
    "Using pandas is slow? Let's compare with other methods."
   ]
  },
  {
   "cell_type": "code",
   "execution_count": 5,
   "metadata": {},
   "outputs": [
    {
     "name": "stdout",
     "output_type": "stream",
     "text": [
      "1.02 s ± 28.5 ms per loop (mean ± std. dev. of 7 runs, 1 loop each)\n",
      "1.04 s ± 37.1 ms per loop (mean ± std. dev. of 7 runs, 1 loop each)\n"
     ]
    }
   ],
   "source": [
    "%timeit pandas.read_csv(url, header=None)\n",
    "\n",
    "%timeit requests.get(url).text"
   ]
  },
  {
   "cell_type": "code",
   "execution_count": 11,
   "metadata": {
    "collapsed": true
   },
   "outputs": [],
   "source": [
    "d = json.loads(requests.get(url).text)"
   ]
  },
  {
   "cell_type": "code",
   "execution_count": 12,
   "metadata": {},
   "outputs": [
    {
     "data": {
      "text/plain": [
       "{'abstract': '<html><head><title>Prislin and Maroju: Mooring Integrity and Machine Learning</title><link href=\"jpub-preview.css\" rel=\"stylesheet\" type=\"text/css\"></link></head><body><div class=\"result-item-meta\"><p><h3>Abstract</h3><p>Maintaining the expected position is critical to the overall safe operation of a floating oil platform. Mooring systems are critical to the integrity of the platform. Relying on instrumentation for monitoring the mooring line tensions represents multi-faceted challenges. Therefore, alternative methods have been introduced across the industry to reduce the costs and complexities of maintaining these systems.</p><p>The paper discusses implementation of the Position Response Learning System (PRLS), a novel concept for addressing the integrity of mooring systems. PRLS is based on emerging data technologies and particularly machine learning that bridges the gap between a variety of global position measurements of the oil-platform and the mooring integrity paradigm. Machine learning enables learning from large amount of data without explicit programming. The PRLS concept does not require expensive line-tension measurement systems, bu...</p></p></div></body></html>'}"
      ]
     },
     "execution_count": 12,
     "metadata": {},
     "output_type": "execute_result"
    }
   ],
   "source": [
    "d"
   ]
  },
  {
   "cell_type": "code",
   "execution_count": 14,
   "metadata": {},
   "outputs": [
    {
     "data": {
      "text/plain": [
       "dict_keys(['abstract'])"
      ]
     },
     "execution_count": 14,
     "metadata": {},
     "output_type": "execute_result"
    }
   ],
   "source": [
    "d.keys()"
   ]
  },
  {
   "cell_type": "code",
   "execution_count": 19,
   "metadata": {},
   "outputs": [
    {
     "data": {
      "text/plain": [
       "'Prislin and Maroju: Mooring Integrity and Machine LearningAbstractMaintaining the expected position is critical to the overall safe operation of a floating oil platform. Mooring systems are critical to the integrity of the platform. Relying on instrumentation for monitoring the mooring line tensions represents multi-faceted challenges. Therefore, alternative methods have been introduced across the industry to reduce the costs and complexities of maintaining these systems.The paper discusses implementation of the Position Response Learning System (PRLS), a novel concept for addressing the integrity of mooring systems. PRLS is based on emerging data technologies and particularly machine learning that bridges the gap between a variety of global position measurements of the oil-platform and the mooring integrity paradigm. Machine learning enables learning from large amount of data without explicit programming. The PRLS concept does not require expensive line-tension measurement systems, bu...'"
      ]
     },
     "execution_count": 19,
     "metadata": {},
     "output_type": "execute_result"
    }
   ],
   "source": [
    "json.loads(BeautifulSoup(requests.get(url).text, 'lxml').get_text())['abstract']"
   ]
  },
  {
   "cell_type": "code",
   "execution_count": 20,
   "metadata": {},
   "outputs": [
    {
     "name": "stdout",
     "output_type": "stream",
     "text": [
      "1.07 s ± 29 ms per loop (mean ± std. dev. of 7 runs, 1 loop each)\n"
     ]
    }
   ],
   "source": [
    "%timeit json.loads(BeautifulSoup(requests.get(url).text, 'lxml').get_text())['abstract']"
   ]
  },
  {
   "cell_type": "code",
   "execution_count": 22,
   "metadata": {},
   "outputs": [
    {
     "data": {
      "text/plain": [
       "4.277777777777778"
      ]
     },
     "execution_count": 22,
     "metadata": {},
     "output_type": "execute_result"
    }
   ],
   "source": [
    "(11000 * 1.4 ) / (60 * 60)"
   ]
  },
  {
   "cell_type": "code",
   "execution_count": null,
   "metadata": {
    "collapsed": true
   },
   "outputs": [],
   "source": []
  }
 ],
 "metadata": {
  "kernelspec": {
   "display_name": "Python 3",
   "language": "python",
   "name": "python3"
  },
  "language_info": {
   "codemirror_mode": {
    "name": "ipython",
    "version": 3
   },
   "file_extension": ".py",
   "mimetype": "text/x-python",
   "name": "python",
   "nbconvert_exporter": "python",
   "pygments_lexer": "ipython3",
   "version": "3.6.8"
  }
 },
 "nbformat": 4,
 "nbformat_minor": 2
}
